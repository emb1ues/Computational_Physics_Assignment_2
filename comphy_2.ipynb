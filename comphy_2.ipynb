{
 "cells": [
  {
   "cell_type": "code",
   "execution_count": 1,
   "id": "00f7b77a",
   "metadata": {},
   "outputs": [],
   "source": [
    "import numpy as np\n",
    "from math import sqrt\n",
    "import matplotlib.pyplot as plt\n",
    "import pandas as pd\n",
    "import random"
   ]
  },
  {
   "cell_type": "code",
   "execution_count": 2,
   "id": "0fd26567",
   "metadata": {},
   "outputs": [],
   "source": [
    "import numpy as np\n"
   ]
  },
  {
   "cell_type": "markdown",
   "id": "f43843c3",
   "metadata": {},
   "source": [
    "# Q1. Cubic Least Square"
   ]
  },
  {
   "cell_type": "code",
   "execution_count": 3,
   "id": "3a12cc9c",
   "metadata": {},
   "outputs": [
    {
     "data": {
      "text/html": [
       "<div>\n",
       "<style scoped>\n",
       "    .dataframe tbody tr th:only-of-type {\n",
       "        vertical-align: middle;\n",
       "    }\n",
       "\n",
       "    .dataframe tbody tr th {\n",
       "        vertical-align: top;\n",
       "    }\n",
       "\n",
       "    .dataframe thead th {\n",
       "        text-align: right;\n",
       "    }\n",
       "</style>\n",
       "<table border=\"1\" class=\"dataframe\">\n",
       "  <thead>\n",
       "    <tr style=\"text-align: right;\">\n",
       "      <th></th>\n",
       "      <th># x</th>\n",
       "      <th>y</th>\n",
       "    </tr>\n",
       "  </thead>\n",
       "  <tbody>\n",
       "    <tr>\n",
       "      <th>0</th>\n",
       "      <td>0.00</td>\n",
       "      <td>0.486</td>\n",
       "    </tr>\n",
       "    <tr>\n",
       "      <th>1</th>\n",
       "      <td>0.05</td>\n",
       "      <td>0.866</td>\n",
       "    </tr>\n",
       "    <tr>\n",
       "      <th>2</th>\n",
       "      <td>0.10</td>\n",
       "      <td>0.944</td>\n",
       "    </tr>\n",
       "    <tr>\n",
       "      <th>3</th>\n",
       "      <td>0.15</td>\n",
       "      <td>1.144</td>\n",
       "    </tr>\n",
       "    <tr>\n",
       "      <th>4</th>\n",
       "      <td>0.20</td>\n",
       "      <td>1.103</td>\n",
       "    </tr>\n",
       "    <tr>\n",
       "      <th>5</th>\n",
       "      <td>0.25</td>\n",
       "      <td>1.202</td>\n",
       "    </tr>\n",
       "    <tr>\n",
       "      <th>6</th>\n",
       "      <td>0.30</td>\n",
       "      <td>1.166</td>\n",
       "    </tr>\n",
       "    <tr>\n",
       "      <th>7</th>\n",
       "      <td>0.35</td>\n",
       "      <td>1.191</td>\n",
       "    </tr>\n",
       "    <tr>\n",
       "      <th>8</th>\n",
       "      <td>0.40</td>\n",
       "      <td>1.124</td>\n",
       "    </tr>\n",
       "    <tr>\n",
       "      <th>9</th>\n",
       "      <td>0.45</td>\n",
       "      <td>1.095</td>\n",
       "    </tr>\n",
       "    <tr>\n",
       "      <th>10</th>\n",
       "      <td>0.50</td>\n",
       "      <td>1.122</td>\n",
       "    </tr>\n",
       "    <tr>\n",
       "      <th>11</th>\n",
       "      <td>0.55</td>\n",
       "      <td>1.102</td>\n",
       "    </tr>\n",
       "    <tr>\n",
       "      <th>12</th>\n",
       "      <td>0.60</td>\n",
       "      <td>1.099</td>\n",
       "    </tr>\n",
       "    <tr>\n",
       "      <th>13</th>\n",
       "      <td>0.65</td>\n",
       "      <td>1.017</td>\n",
       "    </tr>\n",
       "    <tr>\n",
       "      <th>14</th>\n",
       "      <td>0.70</td>\n",
       "      <td>1.111</td>\n",
       "    </tr>\n",
       "    <tr>\n",
       "      <th>15</th>\n",
       "      <td>0.75</td>\n",
       "      <td>1.117</td>\n",
       "    </tr>\n",
       "    <tr>\n",
       "      <th>16</th>\n",
       "      <td>0.80</td>\n",
       "      <td>1.152</td>\n",
       "    </tr>\n",
       "    <tr>\n",
       "      <th>17</th>\n",
       "      <td>0.85</td>\n",
       "      <td>1.265</td>\n",
       "    </tr>\n",
       "    <tr>\n",
       "      <th>18</th>\n",
       "      <td>0.90</td>\n",
       "      <td>1.380</td>\n",
       "    </tr>\n",
       "    <tr>\n",
       "      <th>19</th>\n",
       "      <td>0.95</td>\n",
       "      <td>1.575</td>\n",
       "    </tr>\n",
       "    <tr>\n",
       "      <th>20</th>\n",
       "      <td>1.00</td>\n",
       "      <td>1.857</td>\n",
       "    </tr>\n",
       "  </tbody>\n",
       "</table>\n",
       "</div>"
      ],
      "text/plain": [
       "     # x      y\n",
       "0   0.00  0.486\n",
       "1   0.05  0.866\n",
       "2   0.10  0.944\n",
       "3   0.15  1.144\n",
       "4   0.20  1.103\n",
       "5   0.25  1.202\n",
       "6   0.30  1.166\n",
       "7   0.35  1.191\n",
       "8   0.40  1.124\n",
       "9   0.45  1.095\n",
       "10  0.50  1.122\n",
       "11  0.55  1.102\n",
       "12  0.60  1.099\n",
       "13  0.65  1.017\n",
       "14  0.70  1.111\n",
       "15  0.75  1.117\n",
       "16  0.80  1.152\n",
       "17  0.85  1.265\n",
       "18  0.90  1.380\n",
       "19  0.95  1.575\n",
       "20  1.00  1.857"
      ]
     },
     "execution_count": 3,
     "metadata": {},
     "output_type": "execute_result"
    }
   ],
   "source": [
    "#Using pandas to read the data\n",
    "data = pd.read_csv(\"assign2fit.txt\", sep='\\t')\n",
    "data"
   ]
  },
  {
   "cell_type": "code",
   "execution_count": 4,
   "id": "2a24e899",
   "metadata": {},
   "outputs": [
    {
     "data": {
      "text/plain": [
       "(array([0.  , 0.05, 0.1 , 0.15, 0.2 , 0.25, 0.3 , 0.35, 0.4 , 0.45, 0.5 ,\n",
       "        0.55, 0.6 , 0.65, 0.7 , 0.75, 0.8 , 0.85, 0.9 , 0.95, 1.  ]),\n",
       " array([0.486, 0.866, 0.944, 1.144, 1.103, 1.202, 1.166, 1.191, 1.124,\n",
       "        1.095, 1.122, 1.102, 1.099, 1.017, 1.111, 1.117, 1.152, 1.265,\n",
       "        1.38 , 1.575, 1.857]))"
      ]
     },
     "execution_count": 4,
     "metadata": {},
     "output_type": "execute_result"
    }
   ],
   "source": [
    "xvals = np.array(data.iloc[:,0])\n",
    "yvals = np.array(data.iloc[:,1])\n",
    "xvals, yvals"
   ]
  },
  {
   "cell_type": "code",
   "execution_count": null,
   "id": "f539b269",
   "metadata": {},
   "outputs": [],
   "source": []
  },
  {
   "cell_type": "markdown",
   "id": "9b5fd48c",
   "metadata": {},
   "source": [
    "Define LU_decomposition"
   ]
  },
  {
   "cell_type": "code",
   "execution_count": 5,
   "id": "98f0f1ab",
   "metadata": {},
   "outputs": [],
   "source": [
    "def forward_backward(U, L, b):\n",
    "    y = [0 for i in range(len(b))]\n",
    "\n",
    "    for i in range(len(b)):\n",
    "        total = 0\n",
    "        for j in range(i):\n",
    "            total += L[i][j] * y[j]\n",
    "        y[i] = b[i] - total\n",
    "\n",
    "    x = [0 for i in range(len(b))]\n",
    "\n",
    "    for i in reversed(range(len(b))):\n",
    "        total = 0\n",
    "        for j in range(i + 1, len(b)):\n",
    "            total += U[i][j] * x[j]\n",
    "        x[i] = (y[i] - total) / U[i][i]\n",
    "\n",
    "    return x\n",
    "\n",
    "def partial_pivot(A, b):\n",
    "    count = 0  \n",
    "    n = len(A)\n",
    "    for i in range(n - 1):\n",
    "        if abs(A[i][i]) < 1e-10:\n",
    "            for j in range(i + 1, n):\n",
    "                if abs(A[j][i]) > abs(A[i][i]):\n",
    "                    A[j], A[i] = (A[i],A[j],)  \n",
    "                    count += 1\n",
    "                    b[j], b[i] = (b[i],b[j],)  \n",
    "\n",
    "    return A, b, count\n",
    "    \n",
    "def crout(A):\n",
    "    U = [[0 for i in range(len(A))] for j in range(len(A))]\n",
    "    L = [[0 for i in range(len(A))] for j in range(len(A))]\n",
    "\n",
    "    for i in range(len(A)):\n",
    "        L[i][i] = 1\n",
    "\n",
    "    for j in range(len(A)):\n",
    "        for i in range(len(A)):\n",
    "            total = 0\n",
    "            for k in range(i):\n",
    "                total += L[i][k] * U[k][j]\n",
    "\n",
    "            if i == j:\n",
    "                U[i][j] = A[i][j] - total\n",
    "\n",
    "            elif i > j:\n",
    "                L[i][j] = (A[i][j] - total) / U[j][j]\n",
    "\n",
    "            else:\n",
    "                U[i][j] = A[i][j] - total\n",
    "\n",
    "    return U, L\n",
    "\n",
    "def lu_decomposition(A, b):\n",
    "    partial_pivot(A, b)\n",
    "    U, L = crout(A)\n",
    "    x = forward_backward(U, L, b)\n",
    "    return x"
   ]
  },
  {
   "cell_type": "code",
   "execution_count": 6,
   "id": "eaae86a1",
   "metadata": {},
   "outputs": [],
   "source": [
    "def mlcg(seed: float, a: float, m: float, num: int) -> list:\n",
    "    x = seed\n",
    "    rands = []\n",
    "    for i in range(num):\n",
    "        x = (a * x) % m\n",
    "        rands.append(x)\n",
    "\n",
    "    return rands"
   ]
  },
  {
   "cell_type": "markdown",
   "id": "1e2c8c46",
   "metadata": {},
   "source": [
    "Defining polynomial least square fitting function"
   ]
  },
  {
   "cell_type": "code",
   "execution_count": 8,
   "id": "4051aa19",
   "metadata": {},
   "outputs": [],
   "source": [
    "def leastSquare(xvals, yvals, degree = 1):\n",
    "    n = len(xvals)\n",
    "    params = degree + 1  # no. of parameters\n",
    "    A = np.zeros((params, params))  # Matrix\n",
    "    b = np.zeros(params)  # Vector\n",
    "\n",
    "    for i in range(params):\n",
    "        for j in range(params):\n",
    "            total = 0\n",
    "            for k in range(n):\n",
    "                total += xvals[k] ** (i + j)\n",
    "\n",
    "            A[i, j] = total\n",
    "\n",
    "    for i in range(params):\n",
    "        total = 0\n",
    "        for k in range(n):\n",
    "            total += xvals[k] ** i * yvals[k]\n",
    "\n",
    "        b[i] = total\n",
    "        \n",
    "#     print(A,b)\n",
    "\n",
    "    paramsVec = lu_decomposition(A, b)\n",
    "    \n",
    "#     print(paramsVec)\n",
    "    return paramsVec, A"
   ]
  },
  {
   "cell_type": "markdown",
   "id": "942e6a1f",
   "metadata": {},
   "source": [
    "Chebyshev fitting"
   ]
  },
  {
   "cell_type": "code",
   "execution_count": 9,
   "id": "d84b1158",
   "metadata": {},
   "outputs": [],
   "source": [
    "def chebyshev(x, order):\n",
    "    if order == 0:\n",
    "        return 1\n",
    "    elif order == 1:\n",
    "        return 2 * x - 1\n",
    "    elif order == 2:\n",
    "        return 8 * x**2 - 8 * x + 1\n",
    "    elif order == 3:\n",
    "        return 32 * x**3 - 48 * x**2 + 18 * x - 1\n",
    "\n",
    "\n",
    "def chebyshevfit(xvals, yvals, degree):\n",
    "    n = len(xvals)\n",
    "    params = degree + 1\n",
    "    A = np.zeros((params, params))\n",
    "    b = np.zeros(params)\n",
    "\n",
    "    for i in range(params):\n",
    "        for j in range(params):\n",
    "            total = 0\n",
    "            for k in range(n):\n",
    "                total += chebyshev(xvals[k], j) * chebyshev(xvals[k], i)\n",
    "\n",
    "            A[i, j] = total\n",
    "\n",
    "    for i in range(params):\n",
    "        total = 0\n",
    "        for k in range(n):\n",
    "            total += chebyshev(xvals[k], i) * yvals[k]\n",
    "\n",
    "        b[i] = total\n",
    "\n",
    "    paramsVec = lu_decomposition(A, b)\n",
    "    return paramsVec, A"
   ]
  },
  {
   "cell_type": "code",
   "execution_count": 10,
   "id": "306dc1d0",
   "metadata": {},
   "outputs": [],
   "source": [
    "# Condition number of matrix = 21980.9\n",
    "degree = 3\n",
    "\n",
    "params, mat1 = leastSquare(xvals, yvals, degree)\n",
    "chebyshevparams, mat2 = chebyshevfit(xvals, yvals, degree)"
   ]
  },
  {
   "cell_type": "code",
   "execution_count": 11,
   "id": "1df42317",
   "metadata": {},
   "outputs": [
    {
     "data": {
      "text/html": [
       "<div>\n",
       "<style scoped>\n",
       "    .dataframe tbody tr th:only-of-type {\n",
       "        vertical-align: middle;\n",
       "    }\n",
       "\n",
       "    .dataframe tbody tr th {\n",
       "        vertical-align: top;\n",
       "    }\n",
       "\n",
       "    .dataframe thead th {\n",
       "        text-align: right;\n",
       "    }\n",
       "</style>\n",
       "<table border=\"1\" class=\"dataframe\">\n",
       "  <thead>\n",
       "    <tr style=\"text-align: right;\">\n",
       "      <th></th>\n",
       "      <th>original basis</th>\n",
       "      <th>chebysev basis</th>\n",
       "    </tr>\n",
       "  </thead>\n",
       "  <tbody>\n",
       "    <tr>\n",
       "      <th>0</th>\n",
       "      <td>0.574659</td>\n",
       "      <td>1.160969</td>\n",
       "    </tr>\n",
       "    <tr>\n",
       "      <th>1</th>\n",
       "      <td>4.725861</td>\n",
       "      <td>0.393514</td>\n",
       "    </tr>\n",
       "    <tr>\n",
       "      <th>2</th>\n",
       "      <td>-11.128218</td>\n",
       "      <td>0.046850</td>\n",
       "    </tr>\n",
       "    <tr>\n",
       "      <th>3</th>\n",
       "      <td>7.668678</td>\n",
       "      <td>0.239646</td>\n",
       "    </tr>\n",
       "  </tbody>\n",
       "</table>\n",
       "</div>"
      ],
      "text/plain": [
       "   original basis  chebysev basis\n",
       "0        0.574659        1.160969\n",
       "1        4.725861        0.393514\n",
       "2      -11.128218        0.046850\n",
       "3        7.668678        0.239646"
      ]
     },
     "execution_count": 11,
     "metadata": {},
     "output_type": "execute_result"
    }
   ],
   "source": [
    "params_df = pd.DataFrame({\n",
    "    'original basis': params,\n",
    "    'chebysev basis': chebyshevparams\n",
    "})\n",
    "params_df"
   ]
  },
  {
   "cell_type": "code",
   "execution_count": 12,
   "id": "b72180fc",
   "metadata": {},
   "outputs": [
    {
     "data": {
      "image/png": "[encoded data removed]",
      "text/plain": [
       "<Figure size 432x288 with 1 Axes>"
      ]
     },
     "metadata": {
      "needs_background": "light"
     },
     "output_type": "display_data"
    }
   ],
   "source": [
    "a0, a1, a2, a3 = params[0], params[1], params[2], params[3]\n",
    "\n",
    "x = np.linspace(0, 1, 100)\n",
    "y = a0 + a1 * x + a2 * x**2 + a3 * x**3\n",
    "plt.scatter(xvals, yvals, s=5, label=\"Datapoints\")\n",
    "plt.plot(x, y, \"r\", label=\"Line fit\")\n",
    "plt.xlabel(\"$x$\")\n",
    "plt.ylabel(\"$y$\")\n",
    "plt.title(\"Cubic fit polynomial\")\n",
    "plt.legend()\n",
    "plt.show()"
   ]
  },
  {
   "cell_type": "markdown",
   "id": "676fa375",
   "metadata": {},
   "source": [
    "# Q2. Value of $\\pi$ "
   ]
  },
  {
   "cell_type": "code",
   "execution_count": 13,
   "id": "24d411cc",
   "metadata": {},
   "outputs": [],
   "source": [
    "def mlcg_rand(seed, a, m, num):\n",
    "    x = seed\n",
    "    rands = []\n",
    "    for i in range(num):\n",
    "        x = (a * x) % m\n",
    "        rands.append(x)\n",
    "\n",
    "    return rands\n",
    "\n",
    "#1/4 of a circle of unit radius\n",
    "def integral(x):\n",
    "    return sqrt(1 - x**2)\n",
    "\n",
    "def integratedPi(func, seed, a, m, N):\n",
    "    xrand = mlcg_rand(seed, a, m, N)\n",
    "    xrand = np.array(xrand)/m\n",
    "\n",
    "    summ = 0\n",
    "    for i in range(N):\n",
    "        summ += func(xrand[i])\n",
    "\n",
    "    total = 1 / float(N) * summ\n",
    "\n",
    "    return total\n",
    "\n",
    "\n",
    "def throwPi(seed1, seed2, a, m, N):\n",
    "    xrand = mlcg(seed1, a, m, N)\n",
    "    yrand = mlcg(seed2, a, m, N)\n",
    "    xrand = np.array(xrand)/m\n",
    "    yrand = np.array(yrand)/m\n",
    "\n",
    "    hits = 0\n",
    "    for i in range(N):\n",
    "        if xrand[i]**2 + yrand[i]**2 <= 1:\n",
    "            hits += 1\n",
    "\n",
    "    estim = hits / N\n",
    "    return estim"
   ]
  },
  {
   "cell_type": "code",
   "execution_count": 14,
   "id": "a2ca492a",
   "metadata": {},
   "outputs": [
    {
     "data": {
      "text/plain": [
       "(3.142720688383342, 3.14048)"
      ]
     },
     "execution_count": 14,
     "metadata": {},
     "output_type": "execute_result"
    }
   ],
   "source": [
    "a = 65\n",
    "m = 1021\n",
    "seed = 100\n",
    "integrate_pi = integratedPi(integral, seed, a, m, 100000)\n",
    "throw_pi = throwPi(75.345, 36.232, 65, 1021, 100000)\n",
    "integrate_pi*4, throw_pi*4"
   ]
  },
  {
   "cell_type": "code",
   "execution_count": 15,
   "id": "9d9a4429",
   "metadata": {},
   "outputs": [
    {
     "data": {
      "text/plain": [
       "(3.1411842545237674, 3.11996)"
      ]
     },
     "execution_count": 15,
     "metadata": {},
     "output_type": "execute_result"
    }
   ],
   "source": [
    "a = 572\n",
    "m = 16381\n",
    "seed_1 = 100\n",
    "seed_2 = 10\n",
    "integrated_pi = integratedPi(integral, 234.34, a, m, 100000)\n",
    "throw_pi = throwPi(seed_1, seed_2, 572, 16381, 100000)\n",
    "integrated_pi*4, throw_pi*4"
   ]
  },
  {
   "cell_type": "markdown",
   "id": "cb655b2d",
   "metadata": {},
   "source": [
    "# Q3. Volume of Steinmetz Solid"
   ]
  },
  {
   "cell_type": "code",
   "execution_count": 16,
   "id": "40f4bfb3",
   "metadata": {},
   "outputs": [],
   "source": [
    "def random_MLCG(L_limit, U_limit, a = 1103515245, m = 2**32, x0 = 572):\n",
    "    m1 = 0\n",
    "\n",
    "    if 'MLCG' not in globals():\n",
    "        global MLCG\n",
    "        MLCG = x0\n",
    "        \n",
    "    MLCG = (a * MLCG)%m\n",
    "    random = MLCG/m\n",
    "    random = L_limit + (U_limit - L_limit) * random\n",
    "\n",
    "    return random\n",
    "\n",
    "def circle(x, y):\n",
    "    return sqrt((x**2 + y**2))\n",
    "\n",
    "def steinmetzVolMC(lims, circle, N):\n",
    "\n",
    "    x1, x2, y1, y2, z1, z2 = lims\n",
    "    vol_box = (x2 - x1) * (y2 - y1) * (z2 - z1)\n",
    "    ans = 0\n",
    "    count = 0\n",
    "\n",
    "    for i in range(N):\n",
    "        x = random_MLCG(x1, x2)\n",
    "        y = random_MLCG(y1, y2)\n",
    "        z = random_MLCG(z1, z2)\n",
    "\n",
    "        if (circle(x,y) <= 1) and (circle(y,z) <= 1):\n",
    "            count += 1\n",
    "    return (vol_box/float(N)) * count\n"
   ]
  },
  {
   "cell_type": "code",
   "execution_count": 17,
   "id": "3ed830a7",
   "metadata": {},
   "outputs": [
    {
     "data": {
      "text/plain": [
       "5.340533333333334"
      ]
     },
     "execution_count": 17,
     "metadata": {},
     "output_type": "execute_result"
    }
   ],
   "source": [
    "lims = [-1,1]*3\n",
    "\n",
    "N = 90000\n",
    "\n",
    "volume = steinmetzVolMC(lims, circle ,N)\n",
    "volume"
   ]
  }
 ],
 "metadata": {
  "kernelspec": {
   "display_name": "Python 3 (ipykernel)",
   "language": "python",
   "name": "python3"
  },
  "language_info": {
   "codemirror_mode": {
    "name": "ipython",
    "version": 3
   },
   "file_extension": ".py",
   "mimetype": "text/x-python",
   "name": "python",
   "nbconvert_exporter": "python",
   "pygments_lexer": "ipython3",
   "version": "3.9.6"
  }
 },
 "nbformat": 4,
 "nbformat_minor": 5
}
